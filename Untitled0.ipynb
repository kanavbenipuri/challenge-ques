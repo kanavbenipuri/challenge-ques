{
  "nbformat": 4,
  "nbformat_minor": 0,
  "metadata": {
    "colab": {
      "provenance": [],
      "authorship_tag": "ABX9TyP+mMvu/A9VY660hnt0pGZK",
      "include_colab_link": true
    },
    "kernelspec": {
      "name": "python3",
      "display_name": "Python 3"
    },
    "language_info": {
      "name": "python"
    }
  },
  "cells": [
    {
      "cell_type": "markdown",
      "metadata": {
        "id": "view-in-github",
        "colab_type": "text"
      },
      "source": [
        "<a href=\"https://colab.research.google.com/github/kanavbenipuri/challenge-ques/blob/main/Untitled0.ipynb\" target=\"_parent\"><img src=\"https://colab.research.google.com/assets/colab-badge.svg\" alt=\"Open In Colab\"/></a>"
      ]
    },
    {
      "cell_type": "code",
      "execution_count": 2,
      "metadata": {
        "colab": {
          "base_uri": "https://localhost:8080/"
        },
        "id": "1VD7-PLh0iGs",
        "outputId": "cdecc4ec-3b87-4d5a-9b71-7f7387c32b63"
      },
      "outputs": [
        {
          "output_type": "stream",
          "name": "stdout",
          "text": [
            "Integer list : [1, 2, 3]\n",
            "String list : ['Ram', 'Sham', 'Aman']\n"
          ]
        }
      ],
      "source": [
        "k = ['Ram', 1,'Sham',2, 'Aman', 3]\n",
        " \n",
        "\n",
        "str(k)\n",
        "\n",
        "res_str = [ele for ele in k if isinstance(ele, str)]\n",
        "res_int = [ele for ele in k if isinstance(ele, int)]\n",
        "\n",
        "print(\"Integer list : \" + str(res_int))\n",
        "print(\"String list : \" + str(res_str))"
      ]
    }
  ]
}